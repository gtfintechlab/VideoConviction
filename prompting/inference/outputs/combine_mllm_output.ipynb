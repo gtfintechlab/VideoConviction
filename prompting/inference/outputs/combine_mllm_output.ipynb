{
 "cells": [
  {
   "cell_type": "code",
   "execution_count": 38,
   "metadata": {},
   "outputs": [],
   "source": [
    "import pandas as pd\n",
    "import re\n",
    "from pathlib import Path\n",
    "import json"
   ]
  },
  {
   "cell_type": "code",
   "execution_count": 39,
   "metadata": {},
   "outputs": [],
   "source": [
    "def parse_llava(prompt_text):\n",
    "    # Find the JSON block enclosed in triple backticks with \"json\"\n",
    "    pattern = r\"```json\\s*(\\{.*?\\})\\s*```\"\n",
    "    match = re.search(pattern, prompt_text, re.DOTALL)\n",
    "    if match:\n",
    "        json_str = match.group(1)\n",
    "        return json_str\n",
    "\n",
    "    else:\n",
    "        return None\n"
   ]
  },
  {
   "cell_type": "markdown",
   "metadata": {},
   "source": [
    "Process Overview:\n",
    "\n",
    "Start at the main folder. \\\n",
    "Iterate through each subfolder (model folder). \\\n",
    "For each model folder:\\\n",
    "List all the text files.\\\n",
    "For each text file:\\\n",
    "Read its filename to get the video_id.\\\n",
    "Open the file and read its content to get the prompt output.\\\n",
    "Create a row in the dataframe with model_name, video_id, and prompt output.\\\n",
    "\n",
    "\n",
    "\n",
    "Finally, you will have one dataframe per model folder containing all these rows."
   ]
  },
  {
   "cell_type": "code",
   "execution_count": 40,
   "metadata": {},
   "outputs": [],
   "source": [
    "input_output_folders = [\n",
    "[Path('mllm_prompt_s_video_outputs'), Path('mllm_s_combined_output')],\n",
    "[Path('mllm_prompt_w_video_outputs'), Path('mllm_w_combined_output')]\n",
    "]"
   ]
  },
  {
   "cell_type": "code",
   "execution_count": 41,
   "metadata": {},
   "outputs": [],
   "source": [
    "def txt_file_combiner(main_folder):\n",
    "    # Create a dictionary to hold a DataFrame for each model folder\n",
    "    model_dataframes = {}\n",
    "\n",
    "    # Iterate over each model folder in the main folder\n",
    "    for model_folder in main_folder.iterdir():\n",
    "        if model_folder.is_dir():\n",
    "            rows = []\n",
    "            \n",
    "            # Iterate over each text file in the model folder\n",
    "            for txt_file in model_folder.glob(\"*.txt\"):\n",
    "                # Skip the file if it's named 'details.txt'\n",
    "                if txt_file.name.lower() == \"details.txt\":\n",
    "                    continue\n",
    "\n",
    "                # Extract the YouTube video id from the filename (format \"videoid__rest_of_the_filename\")\n",
    "                full_stem = txt_file.stem\n",
    "                video_id = full_stem.split(\"__\")[0] if \"__\" in full_stem else full_stem\n",
    "                \n",
    "                # Read the file content as prompt output\n",
    "                with open(txt_file, 'r', encoding='utf-8') as f:\n",
    "                    prompt_output = f.read().strip()\n",
    "                \n",
    "                # Create a row with columns in the specified order\n",
    "                row = {\n",
    "                    'video_id': video_id,\n",
    "                    'video_title': \"NA\",\n",
    "                    'transcript': \"NA\",\n",
    "                    'model_source': \"NA\",\n",
    "                    'model_name': model_folder.name,\n",
    "                    'date_of_inference': \"NA\",\n",
    "                    'prompt_used': \"NA\",\n",
    "                    'prompt_output': prompt_output,\n",
    "                    'video_source': \"NA\"\n",
    "                }\n",
    "                rows.append(row)\n",
    "            \n",
    "            if rows:\n",
    "                # Create the DataFrame with columns in the desired order\n",
    "                columns_order = ['video_id', 'video_title', 'transcript', 'model_source', \n",
    "                                 'model_name', 'date_of_inference', 'prompt_used', 'prompt_output', 'video_source']\n",
    "                df = pd.DataFrame(rows, columns=columns_order)\n",
    "                model_dataframes[model_folder.name] = df\n",
    "    \n",
    "    return model_dataframes"
   ]
  },
  {
   "cell_type": "code",
   "execution_count": 42,
   "metadata": {},
   "outputs": [
    {
     "name": "stdout",
     "output_type": "stream",
     "text": [
      "This is llava\n",
      "Saved mllm_s_combined_output/llava-v1.6-mistral-7b-hf_outputs_video_segments.csv\n",
      "This is not llava\n",
      "Saved mllm_s_combined_output/gemini-2.0-pro-exp-02-05_outputs_video_segments.csv\n",
      "This is not llava\n",
      "Saved mllm_s_combined_output/gemini-2.0-flash-001_outputs_video_segments.csv\n",
      "This is not llava\n",
      "Saved mllm_s_combined_output/gemini-1.5-pro-002_outputs_video_segments.csv\n",
      "This is not llava\n",
      "Saved mllm_s_combined_output/gpt-4o-2024-08-06_outputs_video_segments.csv\n",
      "This is not llava\n",
      "Saved mllm_s_combined_output/gemini-1.5-flash-002_outputs_video_segments.csv\n",
      "This is not llava\n",
      "Saved mllm_w_combined_output/gemini-1.5-pro-002_outputs_video_full_length.csv\n",
      "This is not llava\n",
      "Saved mllm_w_combined_output/gemini-2.0-flash-001_outputs_video_full_length.csv\n",
      "This is not llava\n",
      "Saved mllm_w_combined_output/gemini-2.0-pro-exp-02-05_outputs_video_full_length.csv\n",
      "This is not llava\n",
      "Saved mllm_w_combined_output/gpt-4o-2024-08-06_outputs_video_full_length.csv\n",
      "This is not llava\n",
      "Saved mllm_w_combined_output/gemini-1.5-flash-002_outputs_video_full_length.csv\n"
     ]
    }
   ],
   "source": [
    "# Iterate over the input/output folder pairs\n",
    "for input_folder, output_folder in input_output_folders:\n",
    "    # Ensure the output folder exists\n",
    "    output_folder.mkdir(parents=True, exist_ok=True)\n",
    "    \n",
    "    # Generate the dictionary of DataFrames from the input folder\n",
    "    model_dataframes = txt_file_combiner(input_folder)\n",
    "    \n",
    "    # Iterate over the dictionary and save each DataFrame as a CSV\n",
    "    for model_name, df in model_dataframes.items():\n",
    "\n",
    "        # If model_name == \"Llava whatever\"\n",
    "        if model_name == \"llava-v1.6-mistral-7b-hf_outputs_video_segments\":\n",
    "            print(\"This is llava\")\n",
    "            # we have a nomral df with prompt_output column right\n",
    "            # Go row by row for each prompt_output row and apply the llava_parse(current_prompt_output) function which returns the new prompt output\n",
    "            # Replace it with that parsed version\n",
    "            # Move ahead \n",
    "\n",
    "            df['prompt_output'] = df['prompt_output'].apply(parse_llava)\n",
    "        \n",
    "        else:\n",
    "            print(\"This is not llava\")\n",
    "\n",
    "        \n",
    "\n",
    "        \n",
    "        output_csv_path = output_folder / f\"{model_name}.csv\"\n",
    "        df.to_csv(output_csv_path, index=False)\n",
    "        print(f\"Saved {output_csv_path}\")"
   ]
  },
  {
   "cell_type": "code",
   "execution_count": null,
   "metadata": {},
   "outputs": [],
   "source": []
  },
  {
   "cell_type": "code",
   "execution_count": null,
   "metadata": {},
   "outputs": [],
   "source": []
  },
  {
   "cell_type": "code",
   "execution_count": null,
   "metadata": {},
   "outputs": [],
   "source": []
  },
  {
   "cell_type": "code",
   "execution_count": null,
   "metadata": {},
   "outputs": [],
   "source": []
  }
 ],
 "metadata": {
  "kernelspec": {
   "display_name": "Python 3",
   "language": "python",
   "name": "python3"
  },
  "language_info": {
   "codemirror_mode": {
    "name": "ipython",
    "version": 3
   },
   "file_extension": ".py",
   "mimetype": "text/x-python",
   "name": "python",
   "nbconvert_exporter": "python",
   "pygments_lexer": "ipython3",
   "version": "3.12.2"
  }
 },
 "nbformat": 4,
 "nbformat_minor": 2
}
