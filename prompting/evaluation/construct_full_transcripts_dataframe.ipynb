{
 "cells": [
  {
   "cell_type": "code",
   "execution_count": 10,
   "metadata": {},
   "outputs": [],
   "source": [
    "import os,sys\n",
    "import pandas as pd\n",
    "import numpy as np\n",
    "from time import sleep, time\n",
    "from datetime import date\n",
    "import threading\n",
    "from typing import Tuple\n",
    "from datasets import load_dataset\n",
    "from openai import OpenAI\n",
    "import google.generativeai as genai\n",
    "from google.ai import generativelanguage as glm\n",
    "import json\n",
    "from datetime import datetime\n",
    "import ast\n"
   ]
  },
  {
   "cell_type": "markdown",
   "metadata": {},
   "source": [
    "### Import human dataset"
   ]
  },
  {
   "cell_type": "code",
   "execution_count": 11,
   "metadata": {},
   "outputs": [
    {
     "data": {
      "text/plain": [
       "763"
      ]
     },
     "execution_count": 11,
     "metadata": {},
     "output_type": "execute_result"
    }
   ],
   "source": [
    "# Load the data\n",
    "original_human_dataset = pd.read_csv('../data/finalized_dataset.csv')\n",
    "len(original_human_dataset)"
   ]
  },
  {
   "cell_type": "markdown",
   "metadata": {},
   "source": [
    "### ```human_dataset``` dataframe creation"
   ]
  },
  {
   "cell_type": "code",
   "execution_count": 12,
   "metadata": {},
   "outputs": [
    {
     "name": "stdout",
     "output_type": "stream",
     "text": [
      "Number of rows in human dataset:  763\n",
      "Number of videos:  291\n"
     ]
    }
   ],
   "source": [
    "human_dataset = original_human_dataset.copy()\n",
    "print(\"Number of rows in human dataset: \", len(human_dataset))\n",
    "unique_video_ids_human = human_dataset['video_id'].nunique()\n",
    "print(\"Number of videos: \", unique_video_ids_human)"
   ]
  },
  {
   "cell_type": "markdown",
   "metadata": {},
   "source": [
    "### Construct ```df_transcripts``` from ```human_dataset```\n",
    "this has \n",
    "- unique `video_id`\n",
    "- `video_title`\n",
    "- `transcript`"
   ]
  },
  {
   "cell_type": "code",
   "execution_count": 15,
   "metadata": {},
   "outputs": [
    {
     "data": {
      "text/html": [
       "<div>\n",
       "<style scoped>\n",
       "    .dataframe tbody tr th:only-of-type {\n",
       "        vertical-align: middle;\n",
       "    }\n",
       "\n",
       "    .dataframe tbody tr th {\n",
       "        vertical-align: top;\n",
       "    }\n",
       "\n",
       "    .dataframe thead th {\n",
       "        text-align: right;\n",
       "    }\n",
       "</style>\n",
       "<table border=\"1\" class=\"dataframe\">\n",
       "  <thead>\n",
       "    <tr style=\"text-align: right;\">\n",
       "      <th></th>\n",
       "      <th>video_id</th>\n",
       "      <th>video_title</th>\n",
       "      <th>transcript</th>\n",
       "    </tr>\n",
       "  </thead>\n",
       "  <tbody>\n",
       "    <tr>\n",
       "      <th>0</th>\n",
       "      <td>0CJU8R4oNFk</td>\n",
       "      <td>5 Stocks to Buy Now to Double Your Money</td>\n",
       "      <td>Hey Bowtie Nation, Joseph Hogue here with the...</td>\n",
       "    </tr>\n",
       "    <tr>\n",
       "      <th>5</th>\n",
       "      <td>0Fg0YsbOzJA</td>\n",
       "      <td>i am selling it</td>\n",
       "      <td>So we have decided to start selling out of Wy...</td>\n",
       "    </tr>\n",
       "    <tr>\n",
       "      <th>6</th>\n",
       "      <td>0OJIHD_o59M</td>\n",
       "      <td>The Best Internet Stocks for 2023 You Can Buy Now</td>\n",
       "      <td>Hey Bowtie Nation, Joseph Hogue here and a ve...</td>\n",
       "    </tr>\n",
       "    <tr>\n",
       "      <th>9</th>\n",
       "      <td>1Gm4A7EFYI4</td>\n",
       "      <td>I Just Bought The PERFECT Dividend Stock (At A...</td>\n",
       "      <td>So I've had my eye on a few different stocks ...</td>\n",
       "    </tr>\n",
       "    <tr>\n",
       "      <th>10</th>\n",
       "      <td>1Lx7z_x4Rc0</td>\n",
       "      <td>🔵WARNING TO EVERYONE!!!🔵  I JUST SOLD IT ALL!!!</td>\n",
       "      <td>Family we absolutely dominated it today. If y...</td>\n",
       "    </tr>\n",
       "    <tr>\n",
       "      <th>...</th>\n",
       "      <td>...</td>\n",
       "      <td>...</td>\n",
       "      <td>...</td>\n",
       "    </tr>\n",
       "    <tr>\n",
       "      <th>758</th>\n",
       "      <td>Y8iGpTUtrvI</td>\n",
       "      <td>7 Best ETFs to Buy to Grow Your Money</td>\n",
       "      <td>Hey Bowtie Nation, Joseph Hogue here and grow...</td>\n",
       "    </tr>\n",
       "    <tr>\n",
       "      <th>759</th>\n",
       "      <td>zxji3hEMdOM</td>\n",
       "      <td>Should You Buy or Rent a Home in 2024? | The A...</td>\n",
       "      <td>The average cost to rent over a lifetime is w...</td>\n",
       "    </tr>\n",
       "    <tr>\n",
       "      <th>760</th>\n",
       "      <td>_fdC-a7isQ4</td>\n",
       "      <td>ERROR</td>\n",
       "      <td>The financial world is buzzing with speculati...</td>\n",
       "    </tr>\n",
       "    <tr>\n",
       "      <th>761</th>\n",
       "      <td>_KdRpU1CMzY</td>\n",
       "      <td>URGENT!⛔️ SHIBA INU PRICE PREDICTION IS POPPIN...</td>\n",
       "      <td>Crypto is exploding up. We are seeing a few t...</td>\n",
       "    </tr>\n",
       "    <tr>\n",
       "      <th>762</th>\n",
       "      <td>_Ohprl0BONg</td>\n",
       "      <td>The Great 2021 Real Estate Reset and the Only ...</td>\n",
       "      <td>Hey Bowtie Nation, Joseph Hogue here with the...</td>\n",
       "    </tr>\n",
       "  </tbody>\n",
       "</table>\n",
       "<p>291 rows × 3 columns</p>\n",
       "</div>"
      ],
      "text/plain": [
       "        video_id                                        video_title  \\\n",
       "0    0CJU8R4oNFk           5 Stocks to Buy Now to Double Your Money   \n",
       "5    0Fg0YsbOzJA                                    i am selling it   \n",
       "6    0OJIHD_o59M  The Best Internet Stocks for 2023 You Can Buy Now   \n",
       "9    1Gm4A7EFYI4  I Just Bought The PERFECT Dividend Stock (At A...   \n",
       "10   1Lx7z_x4Rc0    🔵WARNING TO EVERYONE!!!🔵  I JUST SOLD IT ALL!!!   \n",
       "..           ...                                                ...   \n",
       "758  Y8iGpTUtrvI              7 Best ETFs to Buy to Grow Your Money   \n",
       "759  zxji3hEMdOM  Should You Buy or Rent a Home in 2024? | The A...   \n",
       "760  _fdC-a7isQ4                                              ERROR   \n",
       "761  _KdRpU1CMzY  URGENT!⛔️ SHIBA INU PRICE PREDICTION IS POPPIN...   \n",
       "762  _Ohprl0BONg  The Great 2021 Real Estate Reset and the Only ...   \n",
       "\n",
       "                                            transcript  \n",
       "0     Hey Bowtie Nation, Joseph Hogue here with the...  \n",
       "5     So we have decided to start selling out of Wy...  \n",
       "6     Hey Bowtie Nation, Joseph Hogue here and a ve...  \n",
       "9     So I've had my eye on a few different stocks ...  \n",
       "10    Family we absolutely dominated it today. If y...  \n",
       "..                                                 ...  \n",
       "758   Hey Bowtie Nation, Joseph Hogue here and grow...  \n",
       "759   The average cost to rent over a lifetime is w...  \n",
       "760   The financial world is buzzing with speculati...  \n",
       "761   Crypto is exploding up. We are seeing a few t...  \n",
       "762   Hey Bowtie Nation, Joseph Hogue here with the...  \n",
       "\n",
       "[291 rows x 3 columns]"
      ]
     },
     "execution_count": 15,
     "metadata": {},
     "output_type": "execute_result"
    }
   ],
   "source": [
    "# Assuming `human_dataset` is your initial DataFrame\n",
    "# Dropping duplicate rows based on `video_id` and keeping the first occurrence\n",
    "unique_videos = human_dataset.drop_duplicates(subset='video_id', keep='first')\n",
    "\n",
    "# Extracting the final DataFrame with the required columns\n",
    "df_transcripts = unique_videos[['video_id', 'video_title', 'transcript']]\n",
    "df_transcripts\n"
   ]
  },
  {
   "cell_type": "markdown",
   "metadata": {},
   "source": [
    "### Check: unique ```video_id```s for human_dataset and df_transcripts\n",
    "##### This is to make sure that we are using the same videos for inference (`df_transcripts`) and the same videos for comparison/evaluation (`human_dataset`)"
   ]
  },
  {
   "cell_type": "code",
   "execution_count": 14,
   "metadata": {},
   "outputs": [
    {
     "name": "stdout",
     "output_type": "stream",
     "text": [
      "Unique video IDs in human dataset: 291\n",
      "Unique video IDs in df_transcripts: 291\n",
      "Are the unique video IDs the same? True\n"
     ]
    }
   ],
   "source": [
    "# Calculate unique video IDs in both datasets\n",
    "unique_video_ids_human = human_dataset['video_id'].nunique()\n",
    "unique_video_ids_transcripts = df_transcripts['video_id'].nunique()\n",
    "\n",
    "# Check if the unique video IDs are the same\n",
    "unique_video_ids_human_set = set(human_dataset['video_id'].unique())\n",
    "unique_video_ids_transcripts_set = set(df_transcripts['video_id'].unique())\n",
    "\n",
    "# Compare the sets\n",
    "are_same = unique_video_ids_human_set == unique_video_ids_transcripts_set\n",
    "\n",
    "# Print the results\n",
    "print(f\"Unique video IDs in human dataset: {unique_video_ids_human}\")\n",
    "print(f\"Unique video IDs in df_transcripts: {unique_video_ids_transcripts}\")\n",
    "print(f\"Are the unique video IDs the same? {are_same}\")"
   ]
  },
  {
   "cell_type": "code",
   "execution_count": 16,
   "metadata": {},
   "outputs": [],
   "source": [
    "df_transcripts.to_csv('../data/unique_videos_whole_transcripts.csv', index=False)"
   ]
  },
  {
   "cell_type": "code",
   "execution_count": null,
   "metadata": {},
   "outputs": [],
   "source": []
  }
 ],
 "metadata": {
  "kernelspec": {
   "display_name": "Python 3",
   "language": "python",
   "name": "python3"
  },
  "language_info": {
   "codemirror_mode": {
    "name": "ipython",
    "version": 3
   },
   "file_extension": ".py",
   "mimetype": "text/x-python",
   "name": "python",
   "nbconvert_exporter": "python",
   "pygments_lexer": "ipython3",
   "version": "3.12.2"
  }
 },
 "nbformat": 4,
 "nbformat_minor": 2
}
